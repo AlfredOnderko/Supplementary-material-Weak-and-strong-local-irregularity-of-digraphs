{
 "cells": [
  {
   "cell_type": "markdown",
   "id": "05738c87",
   "metadata": {},
   "source": [
    "# Supplementary material: Weakening and strengthening the local irregularity of digraphs"
   ]
  },
  {
   "cell_type": "markdown",
   "id": "9fb8d5bd",
   "metadata": {},
   "source": [
    "## S1 Implementation and basic functions"
   ]
  },
  {
   "cell_type": "code",
   "execution_count": 7,
   "id": "f5a9bb4a",
   "metadata": {},
   "outputs": [],
   "source": [
    "import itertools\n",
    "import copy"
   ]
  },
  {
   "cell_type": "markdown",
   "id": "3eca6f79",
   "metadata": {},
   "source": [
    "### S1.1 Implemenation of a colored orientation of a graph"
   ]
  },
  {
   "attachments": {
    "conf3.png": {
     "image/png": "[encoded data removed]"
    }
   },
   "cell_type": "markdown",
   "id": "012a95ed",
   "metadata": {},
   "source": [
    "We implement a colored oriented graph as a 3-tuple `edgelist, orientation, coloring`. \n",
    "See below the implementation of the following colored digraph.\n",
    "\n",
    "![conf3.png](attachment:conf3.png)"
   ]
  },
  {
   "cell_type": "code",
   "execution_count": 32,
   "id": "167e539b",
   "metadata": {},
   "outputs": [],
   "source": [
    "edgelist = [(0,1),(1,2),(1,3),(1,4),(4,5)]\n",
    "orientation = dict(zip(edgelist,[1,-1,1,-1,-1]))\n",
    "coloring = dict(zip(edgelist,['b','r','r','r','r']))"
   ]
  },
  {
   "cell_type": "markdown",
   "id": "ab5bb653",
   "metadata": {},
   "source": [
    "**Notes:**\n",
    "- in general, a vertex $v_i$ is represented by `i` in the code\n",
    "- edges are always stored as pairs `(u,v)` where `u < v`"
   ]
  },
  {
   "cell_type": "markdown",
   "id": "416b9715",
   "metadata": {},
   "source": [
    "### S1.2 Checking if a coloring of (a part of) an oriented graph is strong locally irregular"
   ]
  },
  {
   "cell_type": "markdown",
   "id": "ef556433",
   "metadata": {},
   "source": [
    "The function `is_strong_locally_irregular()` serves to check whether a coloring of an oriented graph is strong locally irregular.\n",
    "We mainly use it to show that a given coloring of edges from `edgelist` except those in `edges_D_prime` extends a strong locally irregular 2-coloring of some subdigraph $D'$ of $D$ to a strong locally irregular 2-coloring of $D$.\n",
    "This function can be used to check if a coloring of a standalone oriented graph is strong locally irregular, in this case do not specify `edges_D_prime` or `br_D_prime`.\n",
    "\n",
    "**Input:** \n",
    "- `edgelist` is a `list` of edges of a skeleton of a considered configuration\n",
    "- `o` is a `dict` that stores an orientations of all the edges \n",
    "    - `o.keys()` are edges from `edgelist` \n",
    "    - `o.values()` are orientations stored as `-1` or `1`\n",
    "    - `o[(u,v)] == -1` iff the arc is going from `v` to `u`\n",
    "    - `o[(u,v)] == 1` iff the arc is going from `u` to `v`\n",
    "- `c` is a `dict` that stores a coloring of all the edgges\n",
    "    - `c.keys()` are edges from `edgelist`\n",
    "    - `c.values()` are colors represented by `b` and `r`\n",
    "    - `c[(u,v)] == b` iff the arc between `u` and `v` is blue\n",
    "    - `c[(u,v)] == r` iff the arc between `u` and `v` is red\n",
    "- `edges_D_prime` is a `list` of edges from `edgelist` that lie in $D'$ (i.e., these edges attach to the rest of the digraph $D$, and their end vertices may have different color degrees then the ones calculated from `c`)\n",
    "- `br_D_prime` is a `dict` that stores the color degrees of end vertices of edges from `edges_D_prime` in the considered coloring of $D$, where the edges from `edgelist` except those from `edges_D_prime` are uncolored\n",
    "    - `br_D_prime.keys()` are end vertices of edges from `edges_D_prime`\n",
    "    - `br_D_prime.values()` are pairs (lists of length 2) of the blue and red balanced degrees in the considered coloring of the digraph obtained from $D$ by deleting the edges from `edgelist` except those from `edges_D_prime`\n",
    "    - `br_D_prime[u] = [b_u,r_u]` where `b_u` and `r_u` are the blue and red balanced degrees of `u` in $D'$, respectively\n",
    "\n",
    "**Output:**\n",
    "- the function returns `True` iff the given coloring of $D$ is strong locally irregular considering the values of balanced color degrees of vertices in the coloring of $D'$"
   ]
  },
  {
   "cell_type": "code",
   "execution_count": 33,
   "id": "4c4f284c",
   "metadata": {},
   "outputs": [],
   "source": [
    "def is_strong_locally_irregular(edgelist, o, c, edges_D_prime=list(), br_D_prime=dict()):\n",
    "    br = copy.deepcopy(br_D_prime)\n",
    "    \n",
    "    for e in edgelist:\n",
    "        if e in edges_D_prime:\n",
    "            continue\n",
    "        \n",
    "        u1, u2 = e\n",
    "        \n",
    "        if not u1 in br.keys():\n",
    "            br[u1] = [0, 0]\n",
    "\n",
    "        if not u2 in br.keys():\n",
    "            br[u2] = [0,0]\n",
    "\n",
    "        if c[e] == 'b':\n",
    "            br[u1][0] += o[e]\n",
    "            br[u2][0] -= o[e]\n",
    "        else:\n",
    "            br[u1][1] += o[e]\n",
    "            br[u2][1] -= o[e]\n",
    "              \n",
    "    for e in edgelist:\n",
    "        if (c[e] == 'b' and br[e[0]][0] == br[e[1]][0]) \\\n",
    "                or (c[e] == 'r' and br[e[0]][1] == br[e[1]][1]):\n",
    "            return False\n",
    "\n",
    "    return True   "
   ]
  },
  {
   "cell_type": "markdown",
   "id": "d03323b1",
   "metadata": {},
   "source": [
    "### S1.3 Example"
   ]
  },
  {
   "attachments": {
    "example.png": {
     "image/png": "[encoded data removed]"
    }
   },
   "cell_type": "markdown",
   "id": "6cc2d5de",
   "metadata": {},
   "source": [
    "In the following example, consider the following situation:\n",
    "Somewhere in a digraph $D$, there are six vertices $v_0, \\dots, v_6$ joined by arcs $v_1v_0,v_2v_1,v_3v_2,v_4v_1,v_5v_1$.\n",
    "There are no more arcs incident to $v_1,v_2,v_4,v_5$ in $D$, however, there are more arcs incident to $v_0$ and $v_3$.\n",
    "Digraph $D'$ is  obtained from $D$ by removing vertices $v_4, v_5$ and the arc $v_2v_1$.\n",
    "Suppose that there is a strong locally irregular 2-coloring $\\varphi'$ of $D'$ in which $v_1v_0$ is blue and $v_3v_2$ is red.\n",
    "In $\\varphi'$ the blue and red balanced degree pairs of $v_1$ and $v_2$ are clearly $(1,0)$ and $(0,-1)$, respectively.\n",
    "Suppose that the blue and red balanced degree pairs of $v_0$ and $v_3$ are $(3,0)$ and $(0,-2)$, respectively.\n",
    "\n",
    "It is not hard to see, that if we color the remaining arcs blue, we extend $\\varphi'$ to a strong locally irregular 2-coloring of $D$.\n",
    "However, if we color all the remaining arcs red, the obteined coloring violates the strong locally irregular condition for the arc $v_1v_5$.\n",
    "\n",
    "The following code shows the implementation of these configurations and the use of function `is_strong_locally_irregular()`.\n",
    "\n",
    "\n",
    "![example.png](attachment:example.png)"
   ]
  },
  {
   "cell_type": "code",
   "execution_count": 34,
   "id": "1681f2e1",
   "metadata": {},
   "outputs": [
    {
     "name": "stdout",
     "output_type": "stream",
     "text": [
      "True\n",
      "False\n"
     ]
    }
   ],
   "source": [
    "edgelist = [(0, 1), (2, 3), (1, 2), (1, 4), (1, 5)]\n",
    "o = {(0, 1): -1, (2, 3): -1, (1, 2): -1, (1, 4): -1, (1, 5): 1}\n",
    "c1 = {(0, 1): 'b', (2, 3): 'r', (1, 2): 'b', (1, 4): 'b', (1, 5): 'b'}\n",
    "c2 = {(0, 1): 'b', (2, 3): 'r', (1, 2): 'r', (1, 4): 'r', (1, 5): 'r'}\n",
    "edges_D_prime = [(0,1),(2,3)]\n",
    "br_D_prime = {0:[3,0], 3:[0,-2],1:[1,0],2:[0,-1]}\n",
    "\n",
    "# c1 satisfies the strong locally irregular condition \n",
    "print(is_strong_locally_irregular(edgelist,o,c1,edges_D_prime,br_D_prime))\n",
    "\n",
    "# c2 violates the strong locally irregular condition\n",
    "print(is_strong_locally_irregular(edgelist,o,c2,edges_D_prime,br_D_prime))"
   ]
  },
  {
   "cell_type": "markdown",
   "id": "07148ab4",
   "metadata": {},
   "source": [
    "## S2 Proof of Claim 1"
   ]
  },
  {
   "cell_type": "code",
   "execution_count": 35,
   "id": "c1ec604e",
   "metadata": {},
   "outputs": [
    {
     "name": "stdout",
     "output_type": "stream",
     "text": [
      "I finished.\n"
     ]
    }
   ],
   "source": [
    "edgelist = [(0, 1), (1, 2), (1, 3), (1, 4)]\n",
    "\n",
    "edges_D1 = [(0, 1), (1, 2)]\n",
    "\n",
    "for k in [3, 4, 5]:\n",
    "\n",
    "    edgelist.append((1, k + 2))\n",
    "\n",
    "    # iterate through all orientations of edges (0,1) and (1,2), all their colorings in D', \n",
    "    # and all possible (interesting) color degrees of 0 and 2 in D'\n",
    "\n",
    "    for o_01, o_12, c_01, c_12, br_0, br_2 in itertools.product([-1, 1], [-1, 1], ['b', 'r'], ['b', 'r'],\n",
    "                                                                range(-k - 2, k + 4), range(-k - 2, k + 4)):\n",
    "        br_D1 = {1: [0, 0]}\n",
    "\n",
    "        if c_01 == 'b':\n",
    "            br_D1[0] = [br_0, 0]\n",
    "            br_D1[1][0] += -1 * o_01\n",
    "        else:\n",
    "            br_D1[0] = [0, br_0]\n",
    "            br_D1[1][1] += -1 * o_01\n",
    "\n",
    "        if c_12 == 'b':\n",
    "            br_D1[2] = [br_2, 0]\n",
    "            br_D1[1][0] += o_12\n",
    "        else:\n",
    "            br_D1[2] = [0, br_2]\n",
    "            br_D1[1][1] += o_12\n",
    "\n",
    "        # rule out colorings of D' which are not strong locally irregular\n",
    "\n",
    "        if (c_01 == 'b' and br_D1[0][0] == br_D1[1][0]) or (\n",
    "                c_01 == 'r' and br_D1[0][1] == br_D1[1][1]) \\\n",
    "                or (c_12 == 'b' and br_D1[1][0] == br_D1[2][0]) or (\n",
    "                c_12 == 'r' and br_D1[1][1] == br_D1[2][1]):\n",
    "            continue\n",
    "\n",
    "            # consider every orientation of k pendant arcs attached to 1\n",
    "        # if there are i pendant arcs ingoing to 1 then there are k-i arcs outgoing from 1\n",
    "\n",
    "        for i in range(k + 1):\n",
    "            o = dict(zip(edgelist, [o_01, o_12] + [-1 for j in range(i)] + [1 for j in range(k + 1 - i)]))\n",
    "\n",
    "            # find a suitable coloring\n",
    "\n",
    "            has_suitable_coloring = False\n",
    "\n",
    "            for c_pendant in itertools.product(['b', 'r'], repeat=k):\n",
    "                c = dict(zip(edgelist, [c_01, c_12] + list(c_pendant)))\n",
    "\n",
    "                if is_strong_locally_irregular(edgelist, o, c, edges_D1, br_D1):\n",
    "                    has_suitable_coloring = True\n",
    "                    break\n",
    "\n",
    "            if not has_suitable_coloring:\n",
    "                print(\"I was not able to find a suitable coloring for this configuration:\")\n",
    "                print(\"Edges: \" + str(edgelist))\n",
    "                print(\"Orientation: \" + str(o))\n",
    "                print(\"Colors of (0,1) and (1,2): \" + str(c_01) + \", \" + str(c_12))\n",
    "                print(\"Color degrees of 0 and 2: \" + str(br_0) + \", \" + str(br_2))\n",
    "                print()\n",
    "\n",
    "print(\"I finished.\")"
   ]
  },
  {
   "cell_type": "markdown",
   "id": "4a0abae8",
   "metadata": {},
   "source": [
    "## S3 Proof of Claim 2"
   ]
  },
  {
   "cell_type": "code",
   "execution_count": 36,
   "id": "16e38fa0",
   "metadata": {
    "scrolled": false
   },
   "outputs": [
    {
     "name": "stdout",
     "output_type": "stream",
     "text": [
      "I finished.\n"
     ]
    }
   ],
   "source": [
    "for d_1, d_2 in [[4, 4], [4, 3], [4, 2]]:\n",
    "\n",
    "    # define the edges of the configuration\n",
    "    # IMPORTANT: edges (0,1) and (2,3) are always the first two edges in 'edgelist' in that order\n",
    "\n",
    "    edgelist = [(0, 1), (2, 3), (1, 2)]\n",
    "\n",
    "    edges_D2 = [(0, 1), (2, 3)]\n",
    "\n",
    "    for i in range(d_1 - 2):\n",
    "        edgelist.append((1, 4 + i))\n",
    "\n",
    "    for i in range(d_2 - 2):\n",
    "        edgelist.append((2, 2 + d_1 + i))\n",
    "\n",
    "    # iterate through all possible orientations and colorings of (0,1) and (2,3), \n",
    "    # and all possible color degrees (in a color of (0,1) and (2,3), respectively) of 0 and 3 in the coloring of D_2\n",
    "\n",
    "    for o_01, o_23, c_01, c_23, br_0, br_3 in itertools.product([-1, 1], [-1, 1], ['b', 'r'], ['b', 'r'],\n",
    "                                                                range(-d_1, d_1 + 2), range(-d_2, d_2 + 2)):\n",
    "\n",
    "        # create a dict which stores the considered color degrees of 0 and 3 in D_2\n",
    "        # this is to be used as input of is_strong_locally_irregular()\n",
    "\n",
    "        br_D2 = dict()\n",
    "\n",
    "        if c_01 == 'b':\n",
    "            br_D2[0] = [br_0, 0]\n",
    "            br_D2[1] = [-1 * o_01, 0]\n",
    "        else:\n",
    "            br_D2[0] = [0, br_0]\n",
    "            br_D2[1] = [0, -1 * o_01]\n",
    "\n",
    "        if c_23 == 'b':\n",
    "            br_D2[3] = [br_3, 0]\n",
    "            br_D2[2] = [o_23, 0]\n",
    "        else:\n",
    "            br_D2[3] = [0, br_3]\n",
    "            br_D2[2] = [0, o_23]\n",
    "\n",
    "        # rule out colorings of D_2 which are not strong locally irregular\n",
    "\n",
    "        if (c_01 == 'b' and br_D2[0][0] == br_D2[1][0]) or (\n",
    "                c_01 == 'r' and br_D2[0][1] == br_D2[1][1]) \\\n",
    "                or (c_23 == 'b' and br_D2[2][0] == br_D2[3][0]) or (\n",
    "                c_23 == 'r' and br_D2[2][1] == br_D2[3][1]):\n",
    "            continue\n",
    "\n",
    "        # iterate through every possible orientation of the remaining edges,\n",
    "        # and search for a coloring which satisfies the strong locally irregular condition,\n",
    "        # while considering the color degrees of 0, 1, 2, and 3 in D_2\n",
    "\n",
    "        for o in itertools.product([-1, 1], repeat=len(edgelist) - 2):\n",
    "\n",
    "            has_suitable_coloring = False\n",
    "\n",
    "            for c_rest in itertools.product(['b', 'r'], repeat=len(edgelist) - 2):\n",
    "\n",
    "                if is_strong_locally_irregular(edgelist, dict(zip(edgelist, [o_01, o_23] + list(o))),\n",
    "                                               dict(zip(edgelist, [c_01, c_23] + list(c_rest))), edges_D2,\n",
    "                                               br_D2):\n",
    "                    has_suitable_coloring = True\n",
    "                    break\n",
    "\n",
    "            if not has_suitable_coloring:\n",
    "                print(\"I found a case that I cannot solve:\")\n",
    "                print(\"Edges: \" + str(edgelist))\n",
    "                print(\"Orientation: \" + str(dict(zip(edgelist, [o_01, o_23] + list(o)))))\n",
    "                print(\"Colors of (0,1) and (2,3): \" + str(c_01) + \", \" + str(c_23))\n",
    "                print(\"Color degrees of 0 and 3: \" + str(br_0) + \", \" + str(br_3))\n",
    "                print()\n",
    "\n",
    "print(\"I finished.\")"
   ]
  },
  {
   "cell_type": "markdown",
   "id": "427d715a",
   "metadata": {},
   "source": [
    "## S4 Proof of Claim 3"
   ]
  },
  {
   "cell_type": "code",
   "execution_count": 37,
   "id": "eb4d422e",
   "metadata": {},
   "outputs": [
    {
     "name": "stdout",
     "output_type": "stream",
     "text": [
      "I found a case that I cannot solve:\n",
      "Edges: [(0, 1), (2, 3), (1, 2), (1, 4), (2, 5)]\n",
      "Orientation: {(0, 1): -1, (2, 3): -1, (1, 2): 1, (1, 4): -1, (2, 5): 1}\n",
      "Colors of (0,1) and (2,3): b, r\n",
      "Color degrees of 0 and 3: 2, -2\n",
      "\n",
      "I found a case that I cannot solve:\n",
      "Edges: [(0, 1), (2, 3), (1, 2), (1, 4), (2, 5)]\n",
      "Orientation: {(0, 1): -1, (2, 3): -1, (1, 2): 1, (1, 4): -1, (2, 5): 1}\n",
      "Colors of (0,1) and (2,3): r, b\n",
      "Color degrees of 0 and 3: 2, -2\n",
      "\n",
      "I found a case that I cannot solve:\n",
      "Edges: [(0, 1), (2, 3), (1, 2), (1, 4), (2, 5)]\n",
      "Orientation: {(0, 1): 1, (2, 3): 1, (1, 2): -1, (1, 4): 1, (2, 5): -1}\n",
      "Colors of (0,1) and (2,3): b, r\n",
      "Color degrees of 0 and 3: -2, 2\n",
      "\n",
      "I found a case that I cannot solve:\n",
      "Edges: [(0, 1), (2, 3), (1, 2), (1, 4), (2, 5)]\n",
      "Orientation: {(0, 1): 1, (2, 3): 1, (1, 2): -1, (1, 4): 1, (2, 5): -1}\n",
      "Colors of (0,1) and (2,3): r, b\n",
      "Color degrees of 0 and 3: -2, 2\n",
      "\n",
      "I finished.\n"
     ]
    }
   ],
   "source": [
    "# define the edges of the configuration\n",
    "# IMPORTANT: edges (0,1) and (2,3) are the first two edges in 'edgelist' in that order\n",
    "\n",
    "edgelist = [(0,1),(2,3),(1,2),(1,4),(2,5)]\n",
    "\n",
    "edges_D3 = [(0,1),(2,3)]\n",
    "\n",
    "# iterate through all possible orientations and colorings of (0,1) and (2,3), \n",
    "# and all possible color degrees (in a color of (0,1) and (2,3), respectively) of 0 and 3 in the coloring of D'\n",
    "\n",
    "for o_01, o_23, c_01, c_23, br_0, br_3 in itertools.product([-1,1],[-1,1],['b','r'],['b','r'],range(-3,5),range(-3,5)):\n",
    "\n",
    "    # create a dict which stores the considered color degrees of 0 and 3 in D_3\n",
    "    # this is to be used as input of is_strong_locally_irregular()\n",
    "\n",
    "    br_D3 = dict()\n",
    "\n",
    "    if c_01 == 'b':\n",
    "        br_D3[0] = [br_0,0]\n",
    "        br_D3[1] = [-1*o_01,0]\n",
    "    else:\n",
    "        br_D3[0] = [0,br_0]\n",
    "        br_D3[1] = [0,-1*o_01]\n",
    "\n",
    "    if c_23 == 'b':\n",
    "        br_D3[3] = [br_3,0]\n",
    "        br_D3[2] = [o_23,0]\n",
    "    else:\n",
    "        br_D3[3] = [0,br_3]\n",
    "        br_D3[2] = [0,o_23]\n",
    "\n",
    "    # rule out colorings of D_3 which are not strong locally irregular\n",
    "\n",
    "    if (c_01 == 'b' and br_D3[0][0] == br_D3[1][0]) or (c_01 == 'r' and br_D3[0][1] == br_D3[1][1])\\\n",
    "        or (c_23 == 'b' and br_D3[2][0] == br_D3[3][0]) or (c_23 == 'r' and br_D3[2][1] == br_D3[3][1]):\n",
    "\n",
    "        continue\n",
    "\n",
    "    # iterate through every possible orientation of the remaining edges,\n",
    "    # and search for a coloring which satisfies the strong locally irregular condition,\n",
    "    # while considering the color degrees of 0, 1, 2, and 3 in D_3\n",
    "\n",
    "    for o in itertools.product([-1,1], repeat = len(edgelist) - 2):\n",
    "\n",
    "        has_suitable_coloring = False\n",
    "\n",
    "        for c_rest in itertools.product(['b','r'], repeat = 3):\n",
    "\n",
    "            if is_strong_locally_irregular(edgelist, dict(zip(edgelist,[o_01,o_23]+list(o))), dict(zip(edgelist, [c_01,c_23] + list(c_rest))), edges_D3, br_D3):\n",
    "                has_suitable_coloring = True\n",
    "                break\n",
    "\n",
    "        if not has_suitable_coloring:\n",
    "            print(\"I found a case that I cannot solve:\")\n",
    "            print(\"Edges: \" + str(edgelist))\n",
    "            print(\"Orientation: \" + str(dict(zip(edgelist,[o_01,o_23]+list(o)))))\n",
    "            print(\"Colors of (0,1) and (2,3): \" + str(c_01) + \", \" +str(c_23))\n",
    "            print(\"Color degrees of 0 and 3: \" + str(br_0) + \", \" + str(br_3))\n",
    "            print()\n",
    "                \n",
    "\n",
    "print(\"I finished.\")"
   ]
  },
  {
   "attachments": {
    "example2.png": {
     "image/png": "[encoded data removed]"
    }
   },
   "cell_type": "markdown",
   "id": "12f829bb",
   "metadata": {},
   "source": [
    "Cases for which the solution was not found:\n",
    "\n",
    "![example2.png](attachment:example2.png)"
   ]
  },
  {
   "cell_type": "markdown",
   "id": "a82d0bfe",
   "metadata": {},
   "source": [
    "## S5 Proof of Claim 5"
   ]
  },
  {
   "attachments": {
    "example3.png": {
     "image/png": "[encoded data removed]"
    }
   },
   "cell_type": "markdown",
   "id": "bdc10bb0",
   "metadata": {},
   "source": [
    "Considered configurations):\n",
    "\n",
    "![example3.png](attachment:example3.png)"
   ]
  },
  {
   "cell_type": "code",
   "execution_count": 39,
   "id": "fc0c62f1",
   "metadata": {},
   "outputs": [
    {
     "name": "stdout",
     "output_type": "stream",
     "text": [
      "I finished.\n"
     ]
    }
   ],
   "source": [
    "    for edgelist in [[(0, 1), (3, 4), (1, 2), (2, 3), (1, 5)], [(0, 1), (3, 4), (1, 2), (2, 3), (1, 5), (3, 6)]]:\n",
    "        edges_D5 = [(0, 1), (3, 4)]\n",
    "\n",
    "        for o_01, o_34, c_01, c_34, br_0, br_4 in itertools.product([-1, 1], [-1, 1], ['b', 'r'], ['b', 'r'],\n",
    "                                                                    range(-3, 5), range(-3, 5)):\n",
    "\n",
    "            # create a dict which stores the considered color degrees of 0 and 4 in D'\n",
    "\n",
    "            br_D_prime = dict()\n",
    "\n",
    "            if c_01 == 'b':\n",
    "                br_D_prime[0] = [br_0, 0]\n",
    "                br_D_prime[1] = [-1 * o_01, 0]\n",
    "            else:\n",
    "                br_D_prime[0] = [0, br_0]\n",
    "                br_D_prime[1] = [0, -1 * o_01]\n",
    "\n",
    "            if c_34 == 'b':\n",
    "                br_D_prime[4] = [br_4, 0]\n",
    "                br_D_prime[3] = [o_34, 0]\n",
    "            else:\n",
    "                br_D_prime[4] = [0, br_4]\n",
    "                br_D_prime[3] = [0, o_34]\n",
    "\n",
    "            # rule out colorings of D' which are not strong locally irregular\n",
    "\n",
    "            if (c_01 == 'b' and br_D_prime[0][0] == br_D_prime[1][0]) or (\n",
    "                    c_01 == 'r' and br_D_prime[0][1] == br_D_prime[1][1]) \\\n",
    "                    or (c_34 == 'b' and br_D_prime[3][0] == br_D_prime[4][0]) or (\n",
    "                    c_34 == 'r' and br_D_prime[3][1] == br_D_prime[4][1]):\n",
    "                continue\n",
    "\n",
    "            # iterate through every possible orientation of the remaining edges,\n",
    "            # and search for a coloring which satisfies the strong locally irregular condition,\n",
    "            # while considering the color degrees of 0, 1, 3, and 4 in D'\n",
    "\n",
    "            for o in itertools.product([-1, 1], repeat=len(edgelist) - 2):\n",
    "\n",
    "                has_suitable_coloring = False\n",
    "\n",
    "                for c_rest in itertools.product(['b', 'r'], repeat=len(edgelist) - 2):\n",
    "\n",
    "                    if is_strong_locally_irregular(edgelist, dict(zip(edgelist, [o_01, o_34] + list(o))),\n",
    "                                                   dict(zip(edgelist, [c_01, c_34] + list(c_rest))), edges_D5,\n",
    "                                                   br_D_prime):\n",
    "                        has_suitable_coloring = True\n",
    "                        break\n",
    "\n",
    "                if not has_suitable_coloring:\n",
    "                    print(\"I found a case that I cannot solve:\")\n",
    "                    print(\"Edges: \" + str(edgelist))\n",
    "                    print(\"Orientation: \" + str(dict(zip(edgelist, [o_01, o_34] + list(o)))))\n",
    "                    print(\"Colors of (0,1) and (2,3): \" + str(c_01) + \", \" + str(c_34))\n",
    "                    print(\"Color degrees of 0 and 3: \" + str(br_0) + \", \" + str(br_4))\n",
    "                    print()\n",
    "\n",
    "    print(\"I finished.\")"
   ]
  },
  {
   "cell_type": "markdown",
   "id": "1ed7b918",
   "metadata": {},
   "source": [
    "## S6 Proof of (ii)"
   ]
  },
  {
   "attachments": {
    "example4.png": {
     "image/png": "[encoded data removed]"
    }
   },
   "cell_type": "markdown",
   "id": "c0b7e61d",
   "metadata": {},
   "source": [
    "**Notes:**\n",
    "- $x$, $v_1$, $v_2$, and $y$ are represented by `0`, `1`, `2`, and `3`, respectively\n",
    "- pendant neighbor of `1` (if it exists) is `4`\n",
    "- pendant neighbor of `2` (if it exists) is `5`\n",
    "- pendant neighbors of $x$ are represented by `6, 7, ...`  \n",
    "- as in the previous proofs, edges as stored as ordered pairs `(u,v)` where `u<v`\n",
    "- `edgelist` always starts with the edge `(0,3)` which is the only edge of `edges_D_prime`\n",
    "- we consider three major cases, see the following figure\n",
    "\n",
    "![example4.png](attachment:example4.png)>"
   ]
  },
  {
   "cell_type": "code",
   "execution_count": 40,
   "id": "3d68cd32",
   "metadata": {},
   "outputs": [
    {
     "name": "stdout",
     "output_type": "stream",
     "text": [
      "I finished.\n"
     ]
    }
   ],
   "source": [
    "edges_D_prime = [(0,3)]\n",
    "\n",
    "for edgelist in [[(0,3),(0,1),(1,2),(0,2)],[(0,3),(0,1),(1,2),(0,2),(1,4)],[(0,3),(0,1),(1,2),(0,2),(1,4),(2,5)]]:\n",
    "    \n",
    "    # consider every interesting number of pendant neighbors of 0\n",
    "    # we know that 0 is incident to at most 6 pendant edges\n",
    "    \n",
    "    for q in range(7):\n",
    "        \n",
    "        edgelist.append((0,6+q))\n",
    "        \n",
    "        # w.l.o.g. the arc between 0 and 3 in D' is colored blue\n",
    "    \n",
    "        c_03 = 'b'\n",
    "            \n",
    "        # consider different blue degrees blue_3 of 3 in D'\n",
    "        # and the orientation of the edge (0,3)\n",
    "        # note: any solution that works for blue_3 = 4 + q works also for blue_3 > 4 + q and blue_3 < -(3 + q)\n",
    "        # as the blue balanced degree of 0 is upper bounded by d(0) = 3 + q\n",
    "        \n",
    "        for blue_3, o_03 in itertools.product(range(-3-q,5+q),[-1,1]):\n",
    "            \n",
    "            br_D_prime = {0:[o_03,0], 3:[blue_3,0]}\n",
    "           \n",
    "            # if the coloring of D' is not strong locally irregular, skip it\n",
    "                \n",
    "            if br_D_prime[0][0] == br_D_prime[3][0]:\n",
    "                continue\n",
    "            \n",
    "            # consider every possible orientation of edges incident to 1 and 2\n",
    "            # and every possible number of pendant arcs ingoing to 0\n",
    "            \n",
    "            for o_incident_to_1_or_2, number_ingoing_pendant_arcs_from_0 in itertools.product(itertools.product([-1,1],repeat=len(edgelist)-q-1), range(q+1)):\n",
    "               \n",
    "                o = dict(zip(edgelist, [o_03] + list(o_incident_to_1_or_2) + [-1 for i in range(number_ingoing_pendant_arcs_from_0)] + [1 for i in range(q - number_ingoing_pendant_arcs_from_0)]))\n",
    "                \n",
    "                has_suitable_coloring = False\n",
    "                \n",
    "                for c in itertools.product(['b','r'], repeat = len(edgelist)):\n",
    "                    \n",
    "                    if is_strong_locally_irregular(edgelist,o,dict(zip(edgelist,[c_03] + list(c))), edges_D_prime, br_D_prime):\n",
    "                        has_suitable_coloring = True\n",
    "                        break\n",
    "                \n",
    "                if not has_suitable_coloring:\n",
    "                    print(\"I found a case that I cannot solve:\")\n",
    "                    print(\"Edges: \" + str(edgelist))\n",
    "                    print(\"Orientation: \" + str(o))\n",
    "                    print(\"Blue degree 3: \" + str(blue_3))\n",
    "                    print()\n",
    "                    \n",
    "\n",
    "print(\"I finished.\")"
   ]
  }
 ],
 "metadata": {
  "kernelspec": {
   "display_name": "Python 3 (ipykernel)",
   "language": "python",
   "name": "python3"
  },
  "language_info": {
   "codemirror_mode": {
    "name": "ipython",
    "version": 3
   },
   "file_extension": ".py",
   "mimetype": "text/x-python",
   "name": "python",
   "nbconvert_exporter": "python",
   "pygments_lexer": "ipython3",
   "version": "3.9.13"
  },
  "latex_envs": {
   "LaTeX_envs_menu_present": true,
   "autoclose": false,
   "autocomplete": true,
   "bibliofile": "biblio.bib",
   "cite_by": "apalike",
   "current_citInitial": 1,
   "eqLabelWithNumbers": true,
   "eqNumInitial": 1,
   "hotkeys": {
    "equation": "Ctrl-E",
    "itemize": "Ctrl-I"
   },
   "labels_anchors": false,
   "latex_user_defs": false,
   "report_style_numbering": false,
   "user_envs_cfg": false
  },
  "toc": {
   "base_numbering": 1,
   "nav_menu": {},
   "number_sections": true,
   "sideBar": true,
   "skip_h1_title": false,
   "title_cell": "Table of Contents",
   "title_sidebar": "Contents",
   "toc_cell": false,
   "toc_position": {},
   "toc_section_display": true,
   "toc_window_display": false
  },
  "varInspector": {
   "cols": {
    "lenName": 16,
    "lenType": 16,
    "lenVar": 40
   },
   "kernels_config": {
    "python": {
     "delete_cmd_postfix": "",
     "delete_cmd_prefix": "del ",
     "library": "var_list.py",
     "varRefreshCmd": "print(var_dic_list())"
    },
    "r": {
     "delete_cmd_postfix": ") ",
     "delete_cmd_prefix": "rm(",
     "library": "var_list.r",
     "varRefreshCmd": "cat(var_dic_list()) "
    }
   },
   "types_to_exclude": [
    "module",
    "function",
    "builtin_function_or_method",
    "instance",
    "_Feature"
   ],
   "window_display": false
  }
 },
 "nbformat": 4,
 "nbformat_minor": 5
}
